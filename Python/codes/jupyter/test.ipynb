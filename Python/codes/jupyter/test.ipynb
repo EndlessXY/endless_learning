{
 "cells": [
  {
   "cell_type": "code",
   "execution_count": 5,
   "metadata": {},
   "outputs": [
    {
     "name": "stdout",
     "output_type": "stream",
     "text": [
      "<function hi.<locals>.greet at 0x1090e7670>\n",
      "now you are in the greet() function\n",
      "now you are in the greet() function\n"
     ]
    }
   ],
   "source": [
    "def hi(name=\"yasoob\"):\n",
    "    def greet():\n",
    "        return \"now you are in the greet() function\"\n",
    " \n",
    "    def welcome():\n",
    "        return \"now you are in the welcome() function\"\n",
    " \n",
    "    if name == \"yasoob\":\n",
    "        return greet\n",
    "    else:\n",
    "        return welcome\n",
    " \n",
    "a = hi()\n",
    "print(a)\n",
    "print(a())\n",
    "print(hi()())"
   ]
  }
 ],
 "metadata": {
  "kernelspec": {
   "display_name": "aiship",
   "language": "python",
   "name": "python3"
  },
  "language_info": {
   "codemirror_mode": {
    "name": "ipython",
    "version": 3
   },
   "file_extension": ".py",
   "mimetype": "text/x-python",
   "name": "python",
   "nbconvert_exporter": "python",
   "pygments_lexer": "ipython3",
   "version": "3.8.17"
  },
  "orig_nbformat": 4
 },
 "nbformat": 4,
 "nbformat_minor": 2
}
