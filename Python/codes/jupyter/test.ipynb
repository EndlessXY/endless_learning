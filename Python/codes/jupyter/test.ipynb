{
 "cells": [
  {
   "cell_type": "code",
   "execution_count": 5,
   "metadata": {},
   "outputs": [
    {
     "name": "stdout",
     "output_type": "stream",
     "text": [
      "<function hi.<locals>.greet at 0x1090e7670>\n",
      "now you are in the greet() function\n",
      "now you are in the greet() function\n"
     ]
    }
   ],
   "source": [
    "def hi(name=\"yasoob\"):\n",
    "    def greet():\n",
    "        return \"now you are in the greet() function\"\n",
    " \n",
    "    def welcome():\n",
    "        return \"now you are in the welcome() function\"\n",
    " \n",
    "    if name == \"yasoob\":\n",
    "        return greet\n",
    "    else:\n",
    "        return welcome\n",
    " \n",
    "a = hi()\n",
    "print(a)\n",
    "print(a())\n",
    "print(hi()())"
   ]
  },
  {
   "cell_type": "code",
   "execution_count": 7,
   "metadata": {},
   "outputs": [
    {
     "name": "stdout",
     "output_type": "stream",
     "text": [
      "[15, 5]\n",
      "[35, 5]\n",
      "[25, 5]\n"
     ]
    }
   ],
   "source": [
    "def create(pos=[0, 0]):\n",
    "    def go(direction, step):\n",
    "        new_x = pos[0] + direction[0] * step\n",
    "        new_y = pos[1] + direction[1] * step\n",
    "        pos[0] = new_x\n",
    "        pos[1] = new_y\n",
    "        return pos\n",
    "    return go\n",
    "player = create([5, 5])\n",
    "print(player([1, 0], 10))\n",
    "print(player([1, 0], 20))\n",
    "print(player([-1, 0], 10))"
   ]
  },
  {
   "cell_type": "code",
   "execution_count": 14,
   "metadata": {},
   "outputs": [
    {
     "name": "stdout",
     "output_type": "stream",
     "text": [
      "[DEBUG]: enter hello()\n",
      "hello\n"
     ]
    }
   ],
   "source": [
    "def debug(func):\n",
    "    def wrapper():\n",
    "        print(\"[DEBUG]: enter {}()\".format(func.__name__))\n",
    "        return func()\n",
    "    return wrapper\n",
    "\n",
    "@debug\n",
    "def hello():\n",
    "    print(\"hello\")\n",
    "\n",
    "hello()"
   ]
  },
  {
   "cell_type": "code",
   "execution_count": 15,
   "metadata": {},
   "outputs": [
    {
     "name": "stdout",
     "output_type": "stream",
     "text": [
      "[INFO]: enter hello()\n",
      "hello, good morning\n"
     ]
    }
   ],
   "source": [
    "def logging(level):\n",
    "    def outwrapper(func):\n",
    "        def wrapper(*args, **kwargs):\n",
    "            print(\"[{0}]: enter {1}()\".format(level, func.__name__))\n",
    "            return func(*args, **kwargs)\n",
    "        return wrapper\n",
    "    return outwrapper\n",
    "\n",
    "@logging(level=\"INFO\")\n",
    "def hello(a, b, c):\n",
    "    print(a, b, c)\n",
    "\n",
    "hello(\"hello,\",\"good\",\"morning\")"
   ]
  },
  {
   "cell_type": "code",
   "execution_count": 18,
   "metadata": {},
   "outputs": [
    {
     "name": "stdout",
     "output_type": "stream",
     "text": [
      "Latitude: 40.7128, Longitude: -74.006\n",
      "Latitude: 40°42′46.08″, Longitude: -74°0′-21.60″\n",
      "Invalid GPS coordinates\n",
      "Invalid GPS coordinates\n"
     ]
    }
   ],
   "source": [
    "def ensure_valid_gps(func):\n",
    "    \"\"\"装饰器用于检查GPS的合法性。如果GPS合法，则执行装饰器下的函数\"\"\"\n",
    "    def wrapper(latitude, longitude, *args, **kwargs):\n",
    "        if not (-90 <= latitude <= 90) or not (-180 <= longitude <= 180):\n",
    "            print(\"Invalid GPS coordinates\")\n",
    "            return None  # 如果GPS坐标不合法，函数不执行\n",
    "        return func(latitude, longitude, *args, **kwargs)\n",
    "    return wrapper\n",
    "\n",
    "@ensure_valid_gps\n",
    "def print_gps(latitude, longitude):\n",
    "    \"\"\"打印经纬度信息\"\"\"\n",
    "    print(f\"Latitude: {latitude}, Longitude: {longitude}\")\n",
    "\n",
    "@ensure_valid_gps\n",
    "def convert_to_dms_and_print(latitude, longitude):\n",
    "    \"\"\"将经纬度转换为度分秒格式并打印\"\"\"\n",
    "\n",
    "    def decimal_to_dms(decimal_value):\n",
    "        degree = int(decimal_value)\n",
    "        minute_decimal = (decimal_value - degree) * 60\n",
    "        minute = int(minute_decimal)\n",
    "        second = (minute_decimal - minute) * 60\n",
    "        return f\"{degree}°{minute}′{second:.2f}″\"\n",
    "\n",
    "    lat_dms = decimal_to_dms(latitude)\n",
    "    lon_dms = decimal_to_dms(longitude)\n",
    "    \n",
    "    print(f\"Latitude: {lat_dms}, Longitude: {lon_dms}\")\n",
    "\n",
    "# 测试\n",
    "print_gps(40.7128, -74.0060)\n",
    "convert_to_dms_and_print(40.7128, -74.0060)\n",
    "\n",
    "# 不合法的坐标\n",
    "print_gps(100.0, 200.0)\n",
    "convert_to_dms_and_print(100.0, 200.0)\n"
   ]
  }
 ],
 "metadata": {
  "kernelspec": {
   "display_name": "aiship",
   "language": "python",
   "name": "python3"
  },
  "language_info": {
   "codemirror_mode": {
    "name": "ipython",
    "version": 3
   },
   "file_extension": ".py",
   "mimetype": "text/x-python",
   "name": "python",
   "nbconvert_exporter": "python",
   "pygments_lexer": "ipython3",
   "version": "3.8.17"
  },
  "orig_nbformat": 4
 },
 "nbformat": 4,
 "nbformat_minor": 2
}
